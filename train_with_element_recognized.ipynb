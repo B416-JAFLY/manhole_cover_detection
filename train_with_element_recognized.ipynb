{
 "cells": [
  {
   "cell_type": "code",
   "execution_count": 6,
   "id": "f2288a76-e5d0-4cac-8550-ecf563f267a4",
   "metadata": {},
   "outputs": [],
   "source": [
    "import os\n",
    "import torch\n",
    "import torch.nn as nn\n",
    "import torch.optim as optim\n",
    "from torchvision import datasets, models, transforms\n",
    "from torch.utils.data import DataLoader\n",
    "from sklearn.model_selection import train_test_split"
   ]
  },
  {
   "cell_type": "code",
   "execution_count": 7,
   "id": "869fdcd6-5838-4209-a9ee-e70d4cc41687",
   "metadata": {},
   "outputs": [],
   "source": [
    "# 设置超参数\n",
    "num_epochs = 10\n",
    "batch_size = 32\n",
    "learning_rate = 0.001\n",
    "\n",
    "# 数据增强和预处理\n",
    "data_transforms = {\n",
    "    'train': transforms.Compose([\n",
    "        transforms.RandomResizedCrop(224),\n",
    "        transforms.RandomHorizontalFlip(),\n",
    "        transforms.ToTensor(),\n",
    "        transforms.Normalize([0.485, 0.456, 0.406], [0.229, 0.224, 0.225])\n",
    "    ]),\n",
    "    'val': transforms.Compose([\n",
    "        transforms.Resize(256),\n",
    "        transforms.CenterCrop(224),\n",
    "        transforms.ToTensor(),\n",
    "        transforms.Normalize([0.485, 0.456, 0.406], [0.229, 0.224, 0.225])\n",
    "    ]),\n",
    "}"
   ]
  },
  {
   "cell_type": "code",
   "execution_count": 8,
   "id": "fbfaf427-99fa-4d60-aadd-553a25a8ff6e",
   "metadata": {},
   "outputs": [],
   "source": [
    "# 数据加载\n",
    "data_dir = './dataset_element_recognized/0'\n",
    "image_datasets = {x: datasets.ImageFolder(os.path.join(data_dir, x),\n",
    "                                          data_transforms[x])\n",
    "                  for x in ['train', 'val']}\n",
    "dataloaders = {x: DataLoader(image_datasets[x], batch_size=batch_size,\n",
    "                             shuffle=True, num_workers=4)\n",
    "               for x in ['train', 'val']}\n",
    "dataset_sizes = {x: len(image_datasets[x]) for x in ['train', 'val']}\n",
    "class_names = image_datasets['train'].classes\n",
    "device = torch.device(\"cuda:0\" if torch.cuda.is_available() else \"cpu\")"
   ]
  },
  {
   "cell_type": "code",
   "execution_count": 9,
   "id": "532859ed-d3cc-4bba-9696-86987365feed",
   "metadata": {},
   "outputs": [
    {
     "name": "stderr",
     "output_type": "stream",
     "text": [
      "/home/u2021213565/.conda/envs/myenv/lib/python3.9/site-packages/torchvision/models/_utils.py:208: UserWarning: The parameter 'pretrained' is deprecated since 0.13 and may be removed in the future, please use 'weights' instead.\n",
      "  warnings.warn(\n",
      "/home/u2021213565/.conda/envs/myenv/lib/python3.9/site-packages/torchvision/models/_utils.py:223: UserWarning: Arguments other than a weight enum or `None` for 'weights' are deprecated since 0.13 and may be removed in the future. The current behavior is equivalent to passing `weights=ResNet50_Weights.IMAGENET1K_V1`. You can also use `weights=ResNet50_Weights.DEFAULT` to get the most up-to-date weights.\n",
      "  warnings.warn(msg)\n",
      "Downloading: \"https://download.pytorch.org/models/resnet50-0676ba61.pth\" to /home/u2021213565/.cache/torch/hub/checkpoints/resnet50-0676ba61.pth\n",
      "100%|██████████| 97.8M/97.8M [00:07<00:00, 13.5MB/s]\n"
     ]
    }
   ],
   "source": [
    "# 定义模型\n",
    "model_ft = models.resnet50(pretrained=True)\n",
    "num_ftrs = model_ft.fc.in_features\n",
    "model_ft.fc = nn.Linear(num_ftrs, len(class_names))\n",
    "\n",
    "model_ft = model_ft.to(device)\n",
    "\n",
    "# 定义损失函数和优化器\n",
    "criterion = nn.CrossEntropyLoss()\n",
    "optimizer = optim.SGD(model_ft.parameters(), lr=learning_rate, momentum=0.9)\n",
    "\n",
    "# 训练模型\n",
    "def train_model(model, criterion, optimizer, num_epochs=25):\n",
    "    for epoch in range(num_epochs):\n",
    "        print('Epoch {}/{}'.format(epoch + 1, num_epochs))\n",
    "        print('-' * 10)\n",
    "\n",
    "        # 每个epoch都有训练和验证阶段\n",
    "        for phase in ['train', 'val']:\n",
    "            if phase == 'train':\n",
    "                model.train()  # 训练模式\n",
    "            else:\n",
    "                model.eval()   # 验证模式\n",
    "\n",
    "            running_loss = 0.0\n",
    "            running_corrects = 0\n",
    "\n",
    "            # 迭代数据\n",
    "            for inputs, labels in dataloaders[phase]:\n",
    "                inputs = inputs.to(device)\n",
    "                labels = labels.to(device)\n",
    "\n",
    "                # 梯度清零\n",
    "                optimizer.zero_grad()\n",
    "\n",
    "                # 前向传播\n",
    "                with torch.set_grad_enabled(phase == 'train'):\n",
    "                    outputs = model(inputs)\n",
    "                    _, preds = torch.max(outputs, 1)\n",
    "                    loss = criterion(outputs, labels)\n",
    "\n",
    "                    # 只有在训练阶段才进行反向传播和优化\n",
    "                    if phase == 'train':\n",
    "                        loss.backward()\n",
    "                        optimizer.step()\n",
    "\n",
    "                # 统计\n",
    "                running_loss += loss.item() * inputs.size(0)\n",
    "                running_corrects += torch.sum(preds == labels.data)\n",
    "\n",
    "            epoch_loss = running_loss / dataset_sizes[phase]\n",
    "            epoch_acc = running_corrects.double() / dataset_sizes[phase]\n",
    "\n",
    "            print('{} Loss: {:.4f} Acc: {:.4f}'.format(\n",
    "                phase, epoch_loss, epoch_acc))\n",
    "\n",
    "    return model"
   ]
  },
  {
   "cell_type": "code",
   "execution_count": 10,
   "id": "ca7577d5-5842-4367-acd6-91c6749c278f",
   "metadata": {},
   "outputs": [
    {
     "name": "stdout",
     "output_type": "stream",
     "text": [
      "Epoch 1/10\n",
      "----------\n",
      "train Loss: 2.2637 Acc: 0.3188\n",
      "val Loss: 2.3000 Acc: 0.2667\n",
      "Epoch 2/10\n",
      "----------\n",
      "train Loss: 1.9083 Acc: 0.4783\n",
      "val Loss: 2.4857 Acc: 0.2667\n",
      "Epoch 3/10\n",
      "----------\n",
      "train Loss: 1.8295 Acc: 0.4783\n",
      "val Loss: 2.7048 Acc: 0.2667\n",
      "Epoch 4/10\n",
      "----------\n",
      "train Loss: 1.7788 Acc: 0.4783\n",
      "val Loss: 2.5187 Acc: 0.2667\n",
      "Epoch 5/10\n",
      "----------\n",
      "train Loss: 1.6351 Acc: 0.5072\n",
      "val Loss: 2.4669 Acc: 0.2000\n",
      "Epoch 6/10\n",
      "----------\n",
      "train Loss: 1.7212 Acc: 0.2899\n",
      "val Loss: 2.3556 Acc: 0.2667\n",
      "Epoch 7/10\n",
      "----------\n",
      "train Loss: 1.5746 Acc: 0.4203\n",
      "val Loss: 2.2838 Acc: 0.2667\n",
      "Epoch 8/10\n",
      "----------\n",
      "train Loss: 1.3293 Acc: 0.5797\n",
      "val Loss: 2.2536 Acc: 0.2667\n",
      "Epoch 9/10\n",
      "----------\n",
      "train Loss: 1.3392 Acc: 0.5072\n",
      "val Loss: 2.1980 Acc: 0.2667\n",
      "Epoch 10/10\n",
      "----------\n",
      "train Loss: 1.2752 Acc: 0.5072\n",
      "val Loss: 2.1695 Acc: 0.2667\n"
     ]
    }
   ],
   "source": [
    "# 训练和验证模型\n",
    "model_ft = train_model(model_ft, criterion, optimizer, num_epochs=num_epochs)"
   ]
  },
  {
   "cell_type": "code",
   "execution_count": null,
   "id": "a163a9b3-490b-4680-a21d-d52673a80ddf",
   "metadata": {},
   "outputs": [],
   "source": [
    "# 保存模型\n",
    "torch.save(model_ft.state_dict(), 'resnet50.pth')"
   ]
  },
  {
   "cell_type": "code",
   "execution_count": null,
   "id": "5bdae419-b666-4a7c-905a-6e21f55fb8be",
   "metadata": {},
   "outputs": [],
   "source": []
  }
 ],
 "metadata": {
  "kernelspec": {
   "display_name": "Python (myenv)",
   "language": "python",
   "name": "myenv"
  },
  "language_info": {
   "codemirror_mode": {
    "name": "ipython",
    "version": 3
   },
   "file_extension": ".py",
   "mimetype": "text/x-python",
   "name": "python",
   "nbconvert_exporter": "python",
   "pygments_lexer": "ipython3",
   "version": "3.9.19"
  }
 },
 "nbformat": 4,
 "nbformat_minor": 5
}
