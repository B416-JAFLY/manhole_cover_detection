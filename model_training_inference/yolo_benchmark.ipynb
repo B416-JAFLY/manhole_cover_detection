{
 "cells": [
  {
   "cell_type": "code",
   "execution_count": 6,
   "metadata": {},
   "outputs": [],
   "source": [
    "from ultralytics import YOLO\n"
   ]
  },
  {
   "cell_type": "code",
   "execution_count": 7,
   "metadata": {},
   "outputs": [],
   "source": [
    "model_benchmark = YOLO(\"/home/u2021213565/jupyterlab/summer_internship_manhole_cover_detection/runs/detect/train7/weights/best.pt\")"
   ]
  },
  {
   "cell_type": "code",
   "execution_count": 11,
   "metadata": {},
   "outputs": [
    {
     "name": "stdout",
     "output_type": "stream",
     "text": [
      "Ultralytics YOLOv8.2.48 🚀 Python-3.9.19 torch-2.3.1+cu121 CUDA:0 (NVIDIA GeForce RTX 3080, 10009MiB)\n"
     ]
    },
    {
     "name": "stderr",
     "output_type": "stream",
     "text": [
      "\u001b[34m\u001b[1mval: \u001b[0mScanning /home/u2021213565/jupyterlab/images_dataset_yolo/labels/val.cache... 34 images, 0 backgrounds, 0 corrupt: 100%|██████████| 34/34 [00:00<?, ?it/s]\n",
      "                 Class     Images  Instances      Box(P          R      mAP50  mAP50-95): 100%|██████████| 3/3 [00:01<00:00,  1.52it/s]\n"
     ]
    },
    {
     "name": "stdout",
     "output_type": "stream",
     "text": [
      "                   all         34         60      0.958      0.981      0.985      0.755\n",
      "manhole_cover_unit_area         26         26      0.919      0.962      0.974      0.758\n",
      "manhole_cover_functional_area         34         34      0.996          1      0.995      0.753\n",
      "Speed: 2.1ms preprocess, 11.1ms inference, 0.0ms loss, 1.5ms postprocess per image\n",
      "Results saved to \u001b[1m/home/u2021213565/jupyterlab/summer_internship_manhole_cover_detection/runs/detect/val10\u001b[0m\n"
     ]
    }
   ],
   "source": [
    "# 执行验证\n",
    "results = model_benchmark.val(data=\"benchmark.yaml\")\n"
   ]
  }
 ],
 "metadata": {
  "kernelspec": {
   "display_name": "myenv",
   "language": "python",
   "name": "python3"
  },
  "language_info": {
   "codemirror_mode": {
    "name": "ipython",
    "version": 3
   },
   "file_extension": ".py",
   "mimetype": "text/x-python",
   "name": "python",
   "nbconvert_exporter": "python",
   "pygments_lexer": "ipython3",
   "version": "3.9.19"
  }
 },
 "nbformat": 4,
 "nbformat_minor": 2
}
